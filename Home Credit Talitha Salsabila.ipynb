{
 "cells": [
  {
   "cell_type": "markdown",
   "id": "6f54f2d9",
   "metadata": {},
   "source": [
    "# Home Credit Indonesia — Credit Risk Scorecard\n",
    "Author: Talitha Salsabila"
   ]
  },
  {
   "cell_type": "code",
   "execution_count": null,
   "id": "89fee616",
   "metadata": {},
   "outputs": [],
   "source": [
    "\n",
    "import pandas as pd\n",
    "import numpy as np\n",
    "import matplotlib.pyplot as plt\n",
    "import seaborn as sns\n",
    "\n",
    "from sklearn.model_selection import train_test_split\n",
    "from sklearn.preprocessing import StandardScaler, OneHotEncoder\n",
    "from sklearn.compose import ColumnTransformer\n",
    "from sklearn.pipeline import Pipeline\n",
    "from sklearn.impute import SimpleImputer\n",
    "from sklearn.linear_model import LogisticRegression\n",
    "from sklearn.ensemble import RandomForestClassifier\n",
    "from sklearn.metrics import roc_auc_score, roc_curve, precision_recall_curve\n"
   ]
  },
  {
   "cell_type": "code",
   "execution_count": null,
   "id": "e5222863",
   "metadata": {},
   "outputs": [],
   "source": [
    "\n",
    "train = pd.read_csv(\"application_train.csv\")\n",
    "test = pd.read_csv(\"application_test.csv\")\n",
    "\n",
    "print(train.shape, test.shape)\n",
    "print(train[\"TARGET\"].value_counts(normalize=True))\n"
   ]
  },
  {
   "cell_type": "code",
   "execution_count": null,
   "id": "9483b4c4",
   "metadata": {},
   "outputs": [],
   "source": [
    "\n",
    "plt.figure(figsize=(5,5))\n",
    "train[\"TARGET\"].value_counts().plot.pie(autopct=\"%.1f%%\", colors=[\"#d62728\",\"#7f7f7f\"])\n",
    "plt.title(\"Target Distribution\")\n",
    "plt.ylabel(\"\")\n",
    "plt.savefig(\"target_pie.png\")\n",
    "plt.show()\n"
   ]
  },
  {
   "cell_type": "code",
   "execution_count": null,
   "id": "c7ae0870",
   "metadata": {},
   "outputs": [],
   "source": [
    "\n",
    "train[\"CREDIT_INCOME_RATIO\"] = train[\"AMT_CREDIT\"] / (train[\"AMT_INCOME_TOTAL\"]+1)\n",
    "\n",
    "plt.figure(figsize=(6,4))\n",
    "sns.histplot(train, x=\"CREDIT_INCOME_RATIO\", hue=\"TARGET\", stat=\"density\", common_norm=False)\n",
    "plt.title(\"Credit / Income Ratio vs Default\")\n",
    "plt.savefig(\"credit_income_ratio.png\")\n",
    "plt.show()\n"
   ]
  },
  {
   "cell_type": "code",
   "execution_count": null,
   "id": "4a549fea",
   "metadata": {},
   "outputs": [],
   "source": [
    "\n",
    "target = \"TARGET\"\n",
    "X = train.drop(columns=[target])\n",
    "y = train[target]\n",
    "\n",
    "num_features = X.select_dtypes(include=[np.number]).columns\n",
    "cat_features = X.select_dtypes(include=[\"object\"]).columns\n",
    "\n",
    "numeric_transformer = Pipeline([\n",
    "    (\"imputer\", SimpleImputer(strategy=\"median\")),\n",
    "    (\"scaler\", StandardScaler())\n",
    "])\n",
    "\n",
    "categorical_transformer = Pipeline([\n",
    "    (\"imputer\", SimpleImputer(strategy=\"most_frequent\")),\n",
    "    (\"onehot\", OneHotEncoder(handle_unknown=\"ignore\", sparse=False, max_categories=20))\n",
    "])\n",
    "\n",
    "preprocessor = ColumnTransformer([\n",
    "    (\"num\", numeric_transformer, num_features),\n",
    "    (\"cat\", categorical_transformer, cat_features)\n",
    "])\n"
   ]
  },
  {
   "cell_type": "code",
   "execution_count": null,
   "id": "110cce30",
   "metadata": {},
   "outputs": [],
   "source": [
    "\n",
    "X_train, X_val, y_train, y_val = train_test_split(\n",
    "    X, y, test_size=0.2, stratify=y, random_state=42\n",
    ")\n"
   ]
  },
  {
   "cell_type": "code",
   "execution_count": null,
   "id": "9734cb22",
   "metadata": {},
   "outputs": [],
   "source": [
    "\n",
    "# Logistic Regression\n",
    "lr = Pipeline([\n",
    "    (\"preprocessor\", preprocessor),\n",
    "    (\"clf\", LogisticRegression(max_iter=500, class_weight=\"balanced\"))\n",
    "])\n",
    "lr.fit(X_train, y_train)\n",
    "y_val_lr = lr.predict_proba(X_val)[:,1]\n",
    "\n",
    "# Random Forest\n",
    "rf = Pipeline([\n",
    "    (\"preprocessor\", preprocessor),\n",
    "    (\"clf\", RandomForestClassifier(n_estimators=200, max_depth=10, class_weight=\"balanced\", random_state=42))\n",
    "])\n",
    "rf.fit(X_train, y_train)\n",
    "y_val_rf = rf.predict_proba(X_val)[:,1]\n"
   ]
  },
  {
   "cell_type": "code",
   "execution_count": null,
   "id": "17e187ff",
   "metadata": {},
   "outputs": [],
   "source": [
    "\n",
    "roc_auc_lr = roc_auc_score(y_val, y_val_lr)\n",
    "roc_auc_rf = roc_auc_score(y_val, y_val_rf)\n",
    "print(\"ROC AUC Logistic:\", roc_auc_lr)\n",
    "print(\"ROC AUC RF:\", roc_auc_rf)\n",
    "\n",
    "# ROC Curve\n",
    "fpr_lr, tpr_lr, _ = roc_curve(y_val, y_val_lr)\n",
    "fpr_rf, tpr_rf, _ = roc_curve(y_val, y_val_rf)\n",
    "plt.figure(figsize=(6,5))\n",
    "plt.plot(fpr_lr, tpr_lr, label=f\"LogReg AUC={roc_auc_lr:.2f}\")\n",
    "plt.plot(fpr_rf, tpr_rf, label=f\"RandomForest AUC={roc_auc_rf:.2f}\")\n",
    "plt.plot([0,1],[0,1],\"k--\")\n",
    "plt.legend()\n",
    "plt.title(\"ROC Curve\")\n",
    "plt.savefig(\"roc.png\")\n",
    "plt.show()\n",
    "\n",
    "# PR Curve\n",
    "prec_lr, rec_lr, _ = precision_recall_curve(y_val, y_val_lr)\n",
    "prec_rf, rec_rf, _ = precision_recall_curve(y_val, y_val_rf)\n",
    "plt.figure(figsize=(6,5))\n",
    "plt.plot(rec_lr, prec_lr, label=\"LogReg\")\n",
    "plt.plot(rec_rf, prec_rf, label=\"RandomForest\")\n",
    "plt.legend()\n",
    "plt.title(\"Precision-Recall Curve\")\n",
    "plt.savefig(\"pr.png\")\n",
    "plt.show()\n"
   ]
  },
  {
   "cell_type": "code",
   "execution_count": null,
   "id": "78019d3d",
   "metadata": {},
   "outputs": [],
   "source": [
    "\n",
    "thresholds = np.linspace(0.1,0.9,20)\n",
    "profits = []\n",
    "for th in thresholds:\n",
    "    preds = (y_val_rf >= th).astype(int)\n",
    "    tp = np.sum((preds==0)&(y_val==0))  # approve & good\n",
    "    fp = np.sum((preds==0)&(y_val==1))  # approve & default\n",
    "    profit = tp*1000 - fp*2000\n",
    "    profits.append(profit)\n",
    "\n",
    "plt.figure(figsize=(6,4))\n",
    "plt.plot(thresholds, profits, marker=\"o\")\n",
    "plt.title(\"Profit Curve (Random Forest)\")\n",
    "plt.xlabel(\"Threshold\")\n",
    "plt.ylabel(\"Profit (simulasi)\")\n",
    "plt.savefig(\"profit.png\")\n",
    "plt.show()\n"
   ]
  }
 ],
 "metadata": {},
 "nbformat": 4,
 "nbformat_minor": 5
}
